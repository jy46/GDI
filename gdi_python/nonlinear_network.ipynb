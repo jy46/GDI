{
 "cells": [
  {
   "cell_type": "code",
   "execution_count": 1,
   "metadata": {},
   "outputs": [
    {
     "name": "stderr",
     "output_type": "stream",
     "text": [
      "/Users/joe/anaconda3/lib/python3.6/site-packages/h5py/__init__.py:36: FutureWarning: Conversion of the second argument of issubdtype from `float` to `np.floating` is deprecated. In future, it will be treated as `np.float64 == np.dtype(float).type`.\n",
      "  from ._conv import register_converters as _register_converters\n"
     ]
    }
   ],
   "source": [
    "# IMPORTS\n",
    "import GDI\n",
    "import numpy as np\n",
    "import seaborn as sns\n",
    "import matplotlib.pyplot as plt"
   ]
  },
  {
   "cell_type": "code",
   "execution_count": 2,
   "metadata": {},
   "outputs": [],
   "source": [
    "# PARAMETERS\n",
    "\n",
    "# number of nodes\n",
    "R  = 11\n",
    "\n",
    "# number of samples\n",
    "N  = 1e5  \n",
    "\n",
    "# memory parameter\n",
    "M  = 3     \n",
    "\n",
    "# bootstrap iterations\n",
    "B = 2\n",
    "\n",
    "# weights/betas\n",
    "p1 = 0.5\n",
    "p2 = 0.75\n",
    "p3 = 0.75\n",
    "p4 = 0.5\n",
    "p5 = 0.75\n",
    "\n",
    "P = 2"
   ]
  },
  {
   "cell_type": "code",
   "execution_count": 3,
   "metadata": {},
   "outputs": [],
   "source": [
    "# GENERATE RAW DATA\n",
    "# X has dim: NxR\n",
    "X = np.random.uniform(size=(int(N),int(R)))\n",
    "Z = np.random.multivariate_normal(np.zeros((R,)), np.eye(R), int(N))"
   ]
  },
  {
   "cell_type": "code",
   "execution_count": 4,
   "metadata": {},
   "outputs": [],
   "source": [
    "# IMPLEMENT CAUSALITY/STRUCTURE\n",
    "# shift things in time to create causal Gaussian network with weights used before\n",
    "X[1:,0]  = np.sqrt(1-p1)*Z[1:,0]  + np.sqrt(p1)*(X[:-1,5]**P)\n",
    "X[1:,2]  = np.sqrt(1-p1)*Z[1:,2]  + np.sqrt(p1)*(X[:-1,5]**P)\n",
    "X[1:,4]  = np.sqrt(1-p1)*Z[1:,4]  - np.sqrt(p1)*(X[:-1,5]**P)\n",
    "X[1:,3]  = np.sqrt(1-p2)*Z[1:,3]  + np.sqrt(p2)*(X[:-1,0]**P)\n",
    "X[1:,1]  = np.sqrt(1-p3)*Z[1:,1]  + np.sqrt(p3/4)*(X[:-1,6]**P) - np.sqrt(p3/4)*(X[:-1,7]**P) + np.sqrt(p3/4)*(X[:-1,8]**P) + np.sqrt(p3/4)*(X[:-1,5]**P)\n",
    "X[1:,10] = np.sqrt(1-p4)*Z[1:,10] + np.sqrt(p4)*(X[:-1,3]**P)\n",
    "X[1:,9]  = np.sqrt(1-p5)*Z[1:, 9] + np.sqrt(p5/2)*(X[:-1,4]**P) + np.sqrt(p5/2)*(X[:-1,2]**P)"
   ]
  },
  {
   "cell_type": "code",
   "execution_count": 5,
   "metadata": {},
   "outputs": [],
   "source": [
    "# TRUE CONNECTIVITY\n",
    "true_connectivity = np.zeros((R,R))\n",
    "true_connectivity[5,[0, 2, 4,]] = np.asarray([p1, p1, -p1,])\n",
    "true_connectivity[[5, 6, 8,],1] = p3/4\n",
    "true_connectivity[7,1] = -p3/4\n",
    "true_connectivity[[2, 4],9] = p5/2\n",
    "true_connectivity[0,3] = p2\n",
    "true_connectivity[3,10] = p4"
   ]
  },
  {
   "cell_type": "code",
   "execution_count": null,
   "metadata": {},
   "outputs": [
    {
     "name": "stdout",
     "output_type": "stream",
     "text": [
      "Tester = Classifier, metric = donsker_varadhan\n"
     ]
    },
    {
     "name": "stderr",
     "output_type": "stream",
     "text": [
      "WARNING: Logging before flag parsing goes to stderr.\n",
      "W0928 15:58:37.426656 4723125696 deprecation_wrapper.py:119] From /Users/joe/GDI_Code_Dev/CCMI.py:79: The name tf.reset_default_graph is deprecated. Please use tf.compat.v1.reset_default_graph instead.\n",
      "\n"
     ]
    },
    {
     "name": "stdout",
     "output_type": "stream",
     "text": [
      "Tester = Classifier, metric = donsker_varadhan\n"
     ]
    },
    {
     "name": "stderr",
     "output_type": "stream",
     "text": [
      "W0928 15:58:37.465864 4723125696 deprecation_wrapper.py:119] From /Users/joe/GDI_Code_Dev/Classifier_MI.py:66: The name tf.placeholder is deprecated. Please use tf.compat.v1.placeholder instead.\n",
      "WARNING: Logging before flag parsing goes to stderr.\n",
      "\n",
      "W0928 15:58:37.478031 4723125696 deprecation_wrapper.py:119] From /Users/joe/GDI_Code_Dev/CCMI.py:79: The name tf.reset_default_graph is deprecated. Please use tf.compat.v1.reset_default_graph instead.\n",
      "\n",
      "W0928 15:58:37.497778 4723125696 deprecation_wrapper.py:119] From /Users/joe/GDI_Code_Dev/Classifier_MI.py:49: The name tf.variable_scope is deprecated. Please use tf.compat.v1.variable_scope instead.\n",
      "W0928 15:58:37.506844 4723125696 deprecation_wrapper.py:119] From /Users/joe/GDI_Code_Dev/Classifier_MI.py:66: The name tf.placeholder is deprecated. Please use tf.compat.v1.placeholder instead.\n",
      "\n",
      "\n"
     ]
    },
    {
     "name": "stdout",
     "output_type": "stream",
     "text": [
      "Tester = Classifier, metric = donsker_varadhan\n"
     ]
    },
    {
     "name": "stderr",
     "output_type": "stream",
     "text": [
      "W0928 15:58:37.537275 4723125696 deprecation_wrapper.py:119] From /Users/joe/GDI_Code_Dev/Classifier_MI.py:49: The name tf.variable_scope is deprecated. Please use tf.compat.v1.variable_scope instead.\n",
      "WARNING: Logging before flag parsing goes to stderr.\n",
      "\n",
      "W0928 15:58:37.541186 4723125696 deprecation_wrapper.py:119] From /Users/joe/GDI_Code_Dev/CCMI.py:79: The name tf.reset_default_graph is deprecated. Please use tf.compat.v1.reset_default_graph instead.\n",
      "\n",
      "W0928 15:58:37.572605 4723125696 deprecation_wrapper.py:119] From /Users/joe/GDI_Code_Dev/Classifier_MI.py:66: The name tf.placeholder is deprecated. Please use tf.compat.v1.placeholder instead.\n",
      "\n"
     ]
    },
    {
     "name": "stdout",
     "output_type": "stream",
     "text": [
      "Tester = Classifier, metric = donsker_varadhan\n"
     ]
    },
    {
     "name": "stderr",
     "output_type": "stream",
     "text": [
      "WARNING: Logging before flag parsing goes to stderr.\n",
      "W0928 15:58:37.592475 4723125696 deprecation_wrapper.py:119] From /Users/joe/GDI_Code_Dev/CCMI.py:79: The name tf.reset_default_graph is deprecated. Please use tf.compat.v1.reset_default_graph instead.\n",
      "W0928 15:58:37.599131 4723125696 deprecation_wrapper.py:119] From /Users/joe/GDI_Code_Dev/Classifier_MI.py:49: The name tf.variable_scope is deprecated. Please use tf.compat.v1.variable_scope instead.\n",
      "\n",
      "\n",
      "W0928 15:58:37.615384 4723125696 deprecation_wrapper.py:119] From /Users/joe/GDI_Code_Dev/Classifier_MI.py:66: The name tf.placeholder is deprecated. Please use tf.compat.v1.placeholder instead.\n"
     ]
    },
    {
     "name": "stdout",
     "output_type": "stream",
     "text": [
      "Tester = Classifier, metric = donsker_varadhan\n"
     ]
    },
    {
     "name": "stderr",
     "output_type": "stream",
     "text": [
      "\n",
      "WARNING: Logging before flag parsing goes to stderr.\n",
      "W0928 15:58:37.675173 4723125696 deprecation_wrapper.py:119] From /Users/joe/GDI_Code_Dev/CCMI.py:79: The name tf.reset_default_graph is deprecated. Please use tf.compat.v1.reset_default_graph instead.\n",
      "\n"
     ]
    },
    {
     "name": "stdout",
     "output_type": "stream",
     "text": [
      "Tester = Classifier, metric = donsker_varadhan\n"
     ]
    },
    {
     "name": "stderr",
     "output_type": "stream",
     "text": [
      "W0928 15:58:37.703180 4723125696 deprecation_wrapper.py:119] From /Users/joe/GDI_Code_Dev/Classifier_MI.py:66: The name tf.placeholder is deprecated. Please use tf.compat.v1.placeholder instead.\n",
      "W0928 15:58:37.706232 4723125696 deprecation_wrapper.py:119] From /Users/joe/GDI_Code_Dev/Classifier_MI.py:49: The name tf.variable_scope is deprecated. Please use tf.compat.v1.variable_scope instead.\n",
      "\n",
      "WARNING: Logging before flag parsing goes to stderr.\n",
      "\n"
     ]
    },
    {
     "name": "stdout",
     "output_type": "stream",
     "text": [
      "Tester = Classifier, metric = donsker_varadhan\n"
     ]
    },
    {
     "name": "stderr",
     "output_type": "stream",
     "text": [
      "W0928 15:58:37.709172 4723125696 deprecation_wrapper.py:119] From /Users/joe/GDI_Code_Dev/CCMI.py:79: The name tf.reset_default_graph is deprecated. Please use tf.compat.v1.reset_default_graph instead.\n",
      "WARNING: Logging before flag parsing goes to stderr.\n",
      "W0928 15:58:37.733453 4723125696 deprecation_wrapper.py:119] From /Users/joe/GDI_Code_Dev/Classifier_MI.py:49: The name tf.variable_scope is deprecated. Please use tf.compat.v1.variable_scope instead.\n",
      "W0928 15:58:37.731380 4723125696 deprecation_wrapper.py:119] From /Users/joe/GDI_Code_Dev/CCMI.py:79: The name tf.reset_default_graph is deprecated. Please use tf.compat.v1.reset_default_graph instead.\n",
      "\n",
      "\n",
      "\n"
     ]
    },
    {
     "name": "stdout",
     "output_type": "stream",
     "text": [
      "Tester = Classifier, metric = donsker_varadhan\n"
     ]
    },
    {
     "name": "stderr",
     "output_type": "stream",
     "text": [
      "WARNING: Logging before flag parsing goes to stderr.\n",
      "W0928 15:58:37.763794 4723125696 deprecation_wrapper.py:119] From /Users/joe/GDI_Code_Dev/Classifier_MI.py:66: The name tf.placeholder is deprecated. Please use tf.compat.v1.placeholder instead.\n",
      "W0928 15:58:37.757818 4723125696 deprecation_wrapper.py:119] From /Users/joe/GDI_Code_Dev/CCMI.py:79: The name tf.reset_default_graph is deprecated. Please use tf.compat.v1.reset_default_graph instead.\n",
      "\n",
      "\n",
      "W0928 15:58:37.782814 4723125696 deprecation_wrapper.py:119] From /Users/joe/GDI_Code_Dev/Classifier_MI.py:66: The name tf.placeholder is deprecated. Please use tf.compat.v1.placeholder instead.\n",
      "W0928 15:58:37.785872 4723125696 deprecation_wrapper.py:119] From /Users/joe/GDI_Code_Dev/Classifier_MI.py:49: The name tf.variable_scope is deprecated. Please use tf.compat.v1.variable_scope instead.\n",
      "\n",
      "\n",
      "W0928 15:58:37.802511 4723125696 deprecation_wrapper.py:119] From /Users/joe/GDI_Code_Dev/Classifier_MI.py:49: The name tf.variable_scope is deprecated. Please use tf.compat.v1.variable_scope instead.\n",
      "W0928 15:58:37.774618 4723125696 deprecation_wrapper.py:119] From /Users/joe/GDI_Code_Dev/Classifier_MI.py:66: The name tf.placeholder is deprecated. Please use tf.compat.v1.placeholder instead.\n",
      "\n",
      "\n",
      "W0928 15:58:37.838085 4723125696 deprecation_wrapper.py:119] From /Users/joe/GDI_Code_Dev/Classifier_MI.py:49: The name tf.variable_scope is deprecated. Please use tf.compat.v1.variable_scope instead.\n",
      "\n",
      "W0928 15:58:38.536188 4723125696 deprecation.py:323] From /Users/joe/anaconda3/lib/python3.6/site-packages/tensorflow/python/ops/nn_impl.py:180: add_dispatch_support.<locals>.wrapper (from tensorflow.python.ops.array_ops) is deprecated and will be removed in a future version.\n",
      "Instructions for updating:\n",
      "Use tf.where in 2.0, which has the same broadcast rule as np.where\n",
      "W0928 15:58:38.556056 4723125696 deprecation.py:323] From /Users/joe/anaconda3/lib/python3.6/site-packages/tensorflow/python/ops/nn_impl.py:180: add_dispatch_support.<locals>.wrapper (from tensorflow.python.ops.array_ops) is deprecated and will be removed in a future version.\n",
      "Instructions for updating:\n",
      "Use tf.where in 2.0, which has the same broadcast rule as np.where\n",
      "W0928 15:58:38.588885 4723125696 deprecation.py:323] From /Users/joe/anaconda3/lib/python3.6/site-packages/tensorflow/python/ops/nn_impl.py:180: add_dispatch_support.<locals>.wrapper (from tensorflow.python.ops.array_ops) is deprecated and will be removed in a future version.\n",
      "Instructions for updating:\n",
      "Use tf.where in 2.0, which has the same broadcast rule as np.where\n",
      "W0928 15:58:38.593329 4723125696 deprecation_wrapper.py:119] From /Users/joe/GDI_Code_Dev/Classifier_MI.py:71: The name tf.losses.get_regularization_loss is deprecated. Please use tf.compat.v1.losses.get_regularization_loss instead.\n",
      "\n",
      "W0928 15:58:38.612977 4723125696 deprecation_wrapper.py:119] From /Users/joe/GDI_Code_Dev/Classifier_MI.py:71: The name tf.losses.get_regularization_loss is deprecated. Please use tf.compat.v1.losses.get_regularization_loss instead.\n",
      "W0928 15:58:38.618902 4723125696 deprecation.py:323] From /Users/joe/anaconda3/lib/python3.6/site-packages/tensorflow/python/ops/nn_impl.py:180: add_dispatch_support.<locals>.wrapper (from tensorflow.python.ops.array_ops) is deprecated and will be removed in a future version.\n",
      "Instructions for updating:\n",
      "Use tf.where in 2.0, which has the same broadcast rule as np.whereW0928 15:58:38.626787 4723125696 deprecation_wrapper.py:119] From /Users/joe/GDI_Code_Dev/Classifier_MI.py:81: The name tf.train.AdamOptimizer is deprecated. Please use tf.compat.v1.train.AdamOptimizer instead.\n",
      "\n",
      "\n",
      "\n",
      "W0928 15:58:38.642224 4723125696 deprecation_wrapper.py:119] From /Users/joe/GDI_Code_Dev/Classifier_MI.py:71: The name tf.losses.get_regularization_loss is deprecated. Please use tf.compat.v1.losses.get_regularization_loss instead.\n",
      "W0928 15:58:38.646149 4723125696 deprecation_wrapper.py:119] From /Users/joe/GDI_Code_Dev/Classifier_MI.py:71: The name tf.losses.get_regularization_loss is deprecated. Please use tf.compat.v1.losses.get_regularization_loss instead.\n",
      "\n",
      "W0928 15:58:38.649215 4723125696 deprecation_wrapper.py:119] From /Users/joe/GDI_Code_Dev/Classifier_MI.py:81: The name tf.train.AdamOptimizer is deprecated. Please use tf.compat.v1.train.AdamOptimizer instead.\n",
      "\n",
      "W0928 15:58:38.650770 4723125696 deprecation.py:323] From /Users/joe/anaconda3/lib/python3.6/site-packages/tensorflow/python/ops/nn_impl.py:180: add_dispatch_support.<locals>.wrapper (from tensorflow.python.ops.array_ops) is deprecated and will be removed in a future version.\n",
      "Instructions for updating:\n",
      "Use tf.where in 2.0, which has the same broadcast rule as np.where\n",
      "\n",
      "W0928 15:58:38.668527 4723125696 deprecation_wrapper.py:119] From /Users/joe/GDI_Code_Dev/Classifier_MI.py:81: The name tf.train.AdamOptimizer is deprecated. Please use tf.compat.v1.train.AdamOptimizer instead.\n",
      "\n",
      "W0928 15:58:38.680955 4723125696 deprecation_wrapper.py:119] From /Users/joe/GDI_Code_Dev/Classifier_MI.py:71: The name tf.losses.get_regularization_loss is deprecated. Please use tf.compat.v1.losses.get_regularization_loss instead.\n",
      "W0928 15:58:38.683048 4723125696 deprecation_wrapper.py:119] From /Users/joe/GDI_Code_Dev/Classifier_MI.py:81: The name tf.train.AdamOptimizer is deprecated. Please use tf.compat.v1.train.AdamOptimizer instead.\n",
      "\n",
      "\n",
      "W0928 15:58:38.695804 4723125696 deprecation.py:323] From /Users/joe/anaconda3/lib/python3.6/site-packages/tensorflow/python/ops/nn_impl.py:180: add_dispatch_support.<locals>.wrapper (from tensorflow.python.ops.array_ops) is deprecated and will be removed in a future version.\n",
      "Instructions for updating:\n",
      "Use tf.where in 2.0, which has the same broadcast rule as np.whereW0928 15:58:38.699685 4723125696 deprecation.py:323] From /Users/joe/anaconda3/lib/python3.6/site-packages/tensorflow/python/ops/nn_impl.py:180: add_dispatch_support.<locals>.wrapper (from tensorflow.python.ops.array_ops) is deprecated and will be removed in a future version.\n",
      "Instructions for updating:\n",
      "Use tf.where in 2.0, which has the same broadcast rule as np.where\n",
      "\n",
      "W0928 15:58:38.700831 4723125696 deprecation_wrapper.py:119] From /Users/joe/GDI_Code_Dev/Classifier_MI.py:81: The name tf.train.AdamOptimizer is deprecated. Please use tf.compat.v1.train.AdamOptimizer instead.\n",
      "W0928 15:58:38.714869 4723125696 deprecation_wrapper.py:119] From /Users/joe/GDI_Code_Dev/Classifier_MI.py:71: The name tf.losses.get_regularization_loss is deprecated. Please use tf.compat.v1.losses.get_regularization_loss instead.\n",
      "\n",
      "\n",
      "W0928 15:58:38.697747 4723125696 deprecation.py:323] From /Users/joe/anaconda3/lib/python3.6/site-packages/tensorflow/python/ops/nn_impl.py:180: add_dispatch_support.<locals>.wrapper (from tensorflow.python.ops.array_ops) is deprecated and will be removed in a future version.\n",
      "Instructions for updating:\n",
      "Use tf.where in 2.0, which has the same broadcast rule as np.whereW0928 15:58:38.719898 4723125696 deprecation_wrapper.py:119] From /Users/joe/GDI_Code_Dev/Classifier_MI.py:71: The name tf.losses.get_regularization_loss is deprecated. Please use tf.compat.v1.losses.get_regularization_loss instead.\n",
      "\n",
      "\n",
      "W0928 15:58:38.732793 4723125696 deprecation_wrapper.py:119] From /Users/joe/GDI_Code_Dev/Classifier_MI.py:81: The name tf.train.AdamOptimizer is deprecated. Please use tf.compat.v1.train.AdamOptimizer instead.\n",
      "\n",
      "W0928 15:58:38.749019 4723125696 deprecation_wrapper.py:119] From /Users/joe/GDI_Code_Dev/Classifier_MI.py:81: The name tf.train.AdamOptimizer is deprecated. Please use tf.compat.v1.train.AdamOptimizer instead.\n",
      "W0928 15:58:38.749976 4723125696 deprecation_wrapper.py:119] From /Users/joe/GDI_Code_Dev/Classifier_MI.py:71: The name tf.losses.get_regularization_loss is deprecated. Please use tf.compat.v1.losses.get_regularization_loss instead.\n",
      "\n",
      "\n",
      "W0928 15:58:38.776389 4723125696 deprecation_wrapper.py:119] From /Users/joe/GDI_Code_Dev/Classifier_MI.py:81: The name tf.train.AdamOptimizer is deprecated. Please use tf.compat.v1.train.AdamOptimizer instead.\n",
      "\n",
      "W0928 15:58:39.059193 4723125696 deprecation_wrapper.py:119] From /Users/joe/GDI_Code_Dev/Classifier_MI.py:84: The name tf.ConfigProto is deprecated. Please use tf.compat.v1.ConfigProto instead.\n",
      "\n",
      "W0928 15:58:39.067861 4723125696 deprecation_wrapper.py:119] From /Users/joe/GDI_Code_Dev/Classifier_MI.py:87: The name tf.Session is deprecated. Please use tf.compat.v1.Session instead.\n"
     ]
    },
    {
     "name": "stderr",
     "output_type": "stream",
     "text": [
      "\n",
      "W0928 15:58:39.074723 4723125696 deprecation_wrapper.py:119] From /Users/joe/GDI_Code_Dev/Classifier_MI.py:84: The name tf.ConfigProto is deprecated. Please use tf.compat.v1.ConfigProto instead.\n",
      "\n",
      "W0928 15:58:39.087635 4723125696 deprecation_wrapper.py:119] From /Users/joe/GDI_Code_Dev/Classifier_MI.py:87: The name tf.Session is deprecated. Please use tf.compat.v1.Session instead.\n",
      "\n",
      "W0928 15:58:39.099137 4723125696 deprecation_wrapper.py:119] From /Users/joe/GDI_Code_Dev/Classifier_MI.py:84: The name tf.ConfigProto is deprecated. Please use tf.compat.v1.ConfigProto instead.\n",
      "W0928 15:58:39.099560 4723125696 deprecation_wrapper.py:119] From /Users/joe/GDI_Code_Dev/Classifier_MI.py:84: The name tf.ConfigProto is deprecated. Please use tf.compat.v1.ConfigProto instead.\n",
      "\n",
      "\n",
      "W0928 15:58:39.106042 4723125696 deprecation_wrapper.py:119] From /Users/joe/GDI_Code_Dev/Classifier_MI.py:87: The name tf.Session is deprecated. Please use tf.compat.v1.Session instead.\n",
      "W0928 15:58:39.106469 4723125696 deprecation_wrapper.py:119] From /Users/joe/GDI_Code_Dev/Classifier_MI.py:87: The name tf.Session is deprecated. Please use tf.compat.v1.Session instead.\n",
      "\n",
      "\n",
      "W0928 15:58:39.139799 4723125696 deprecation_wrapper.py:119] From /Users/joe/GDI_Code_Dev/Classifier_MI.py:84: The name tf.ConfigProto is deprecated. Please use tf.compat.v1.ConfigProto instead.\n",
      "\n",
      "W0928 15:58:39.147027 4723125696 deprecation_wrapper.py:119] From /Users/joe/GDI_Code_Dev/Classifier_MI.py:87: The name tf.Session is deprecated. Please use tf.compat.v1.Session instead.\n",
      "\n",
      "W0928 15:58:39.167088 4723125696 deprecation_wrapper.py:119] From /Users/joe/GDI_Code_Dev/Classifier_MI.py:84: The name tf.ConfigProto is deprecated. Please use tf.compat.v1.ConfigProto instead.\n",
      "W0928 15:58:39.167077 4723125696 deprecation_wrapper.py:119] From /Users/joe/GDI_Code_Dev/Classifier_MI.py:84: The name tf.ConfigProto is deprecated. Please use tf.compat.v1.ConfigProto instead.\n",
      "\n",
      "\n",
      "W0928 15:58:39.172697 4723125696 deprecation_wrapper.py:119] From /Users/joe/GDI_Code_Dev/Classifier_MI.py:87: The name tf.Session is deprecated. Please use tf.compat.v1.Session instead.\n",
      "W0928 15:58:39.173324 4723125696 deprecation_wrapper.py:119] From /Users/joe/GDI_Code_Dev/Classifier_MI.py:87: The name tf.Session is deprecated. Please use tf.compat.v1.Session instead.\n",
      "\n",
      "\n",
      "W0928 15:58:39.189399 4723125696 deprecation_wrapper.py:119] From /Users/joe/GDI_Code_Dev/Classifier_MI.py:84: The name tf.ConfigProto is deprecated. Please use tf.compat.v1.ConfigProto instead.\n",
      "\n",
      "W0928 15:58:39.198512 4723125696 deprecation_wrapper.py:119] From /Users/joe/GDI_Code_Dev/Classifier_MI.py:87: The name tf.Session is deprecated. Please use tf.compat.v1.Session instead.\n",
      "\n"
     ]
    },
    {
     "name": "stdout",
     "output_type": "stream",
     "text": [
      "Iteraion = 5000, Test accuracy = 0.736021101474762\n",
      "Iteraion = 5000, Test accuracy = 0.6216702461242676\n",
      "Iteraion = 5000, Test accuracy = 0.7464602589607239\n",
      "Iteraion = 5000, Test accuracy = 0.615310788154602\n",
      "Iteraion = 5000, Test accuracy = 0.6178905963897705\n",
      "Iteraion = 5000, Test accuracy = 0.6673266291618347\n",
      "Iteraion = 5000, Test accuracy = 0.737401008605957\n",
      "Iteraion = 5000, Test accuracy = 0.6783057451248169\n",
      "Iteraion = 5000, Test accuracy = 0.6814854741096497\n",
      "Iteraion = 5000, Test accuracy = 0.7375209927558899\n",
      "Iteraion = 5000, Test accuracy = 0.6241300702095032\n",
      "Iteraion = 5000, Test accuracy = 0.6112310886383057\n",
      "Iteraion = 5000, Test accuracy = 0.7424405813217163\n",
      "Iteraion = 5000, Test accuracy = 0.7440004944801331\n",
      "Iteraion = 5000, Test accuracy = 0.6153707504272461\n",
      "Iteraion = 5000, Test accuracy = 0.6803455948829651\n",
      "Iteraion = 5000, Test accuracy = 0.6838253140449524\n",
      "Iteraion = 5000, Test accuracy = 0.739680826663971\n",
      "Iteraion = 5000, Test accuracy = 0.6190304756164551\n",
      "Iteraion = 5000, Test accuracy = 0.7449604272842407\n",
      "Iteraion = 5000, Test accuracy = 0.6162106990814209\n",
      "Iteraion = 5000, Test accuracy = 0.7338612675666809\n",
      "Iteraion = 5000, Test accuracy = 0.6204103827476501\n",
      "Iteraion = 5000, Test accuracy = 0.6793856620788574\n",
      "Iteraion = 5000, Test accuracy = 0.6811854839324951\n",
      "Iteraion = 5000, Test accuracy = 0.7405807375907898\n",
      "Iteraion = 5000, Test accuracy = 0.6208303570747375\n",
      "Iteraion = 5000, Test accuracy = 0.7462202906608582\n",
      "Iteraion = 5000, Test accuracy = 0.7369210720062256\n",
      "Iteraion = 5000, Test accuracy = 0.6195704340934753\n",
      "Iteraion = 5000, Test accuracy = 0.6088312864303589\n",
      "Tester = Classifier, metric = donsker_varadhan\n",
      "Tester = Classifier, metric = donsker_varadhan\n",
      "Tester = Classifier, metric = donsker_varadhan\n",
      "Tester = Classifier, metric = donsker_varadhan\n",
      "Tester = Classifier, metric = donsker_varadhan\n",
      "Tester = Classifier, metric = donsker_varadhan\n",
      "Tester = Classifier, metric = donsker_varadhan\n",
      "Iteraion = 5000, Test accuracy = 0.6845452189445496\n",
      "Tester = Classifier, metric = donsker_varadhan\n",
      "Iteraion = 5000, Test accuracy = 0.6792056560516357\n",
      "Iteraion = 5000, Test accuracy = 0.7370410561561584\n",
      "Iteraion = 5000, Test accuracy = 0.742620587348938\n",
      "Iteraion = 5000, Test accuracy = 0.737401008605957\n",
      "Iteraion = 5000, Test accuracy = 0.6196304559707642\n",
      "Iteraion = 5000, Test accuracy = 0.6181305646896362\n",
      "Iteraion = 5000, Test accuracy = 0.6233501434326172\n",
      "Iteraion = 5000, Test accuracy = 0.6763858795166016\n",
      "Iteraion = 5000, Test accuracy = 0.7383609414100647\n",
      "Iteraion = 5000, Test accuracy = 0.7251020073890686\n",
      "Iteraion = 5000, Test accuracy = 0.6201704144477844\n",
      "Iteraion = 5000, Test accuracy = 0.675305962562561\n",
      "Iteraion = 5000, Test accuracy = 0.7414206862449646\n",
      "Iteraion = 5000, Test accuracy = 0.6230501532554626\n",
      "Iteraion = 5000, Test accuracy = 0.6245500445365906\n",
      "Iteraion = 5000, Test accuracy = 0.6809455156326294\n",
      "Iteraion = 5000, Test accuracy = 0.6201103925704956\n",
      "Iteraion = 5000, Test accuracy = 0.6789056658744812\n",
      "Iteraion = 5000, Test accuracy = 0.7433405518531799\n",
      "Iteraion = 5000, Test accuracy = 0.7420806288719177\n",
      "Iteraion = 5000, Test accuracy = 0.6173506379127502\n",
      "Iteraion = 5000, Test accuracy = 0.7401008009910583\n",
      "Iteraion = 5000, Test accuracy = 0.6191504597663879\n",
      "Iteraion = 5000, Test accuracy = 0.676805853843689\n",
      "Iteraion = 5000, Test accuracy = 0.6848452091217041\n",
      "Iteraion = 5000, Test accuracy = 0.6165706515312195\n",
      "Iteraion = 5000, Test accuracy = 0.7395608425140381\n",
      "Iteraion = 5000, Test accuracy = 0.7359011173248291\n",
      "Iteraion = 5000, Test accuracy = 0.6240700483322144\n",
      "Iteraion = 5000, Test accuracy = 0.7425605654716492\n",
      "Iteraion = 5000, Test accuracy = 0.6148908138275146\n",
      "Tester = Classifier, metric = donsker_varadhan\n",
      "Tester = Classifier, metric = donsker_varadhan\n",
      "Tester = Classifier, metric = donsker_varadhan\n",
      "Tester = Classifier, metric = donsker_varadhan\n",
      "Tester = Classifier, metric = donsker_varadhan\n",
      "Tester = Classifier, metric = donsker_varadhan\n",
      "Tester = Classifier, metric = donsker_varadhan\n",
      "Iteraion = 5000, Test accuracy = 0.6807055473327637\n",
      "Tester = Classifier, metric = donsker_varadhan\n",
      "Iteraion = 5000, Test accuracy = 0.6771058440208435\n",
      "Iteraion = 5000, Test accuracy = 0.784797191619873\n",
      "Iteraion = 5000, Test accuracy = 0.6732661128044128\n",
      "Iteraion = 5000, Test accuracy = 0.738900899887085\n",
      "Iteraion = 5000, Test accuracy = 0.6180705428123474\n",
      "Iteraion = 5000, Test accuracy = 0.6216702461242676\n",
      "Iteraion = 5000, Test accuracy = 0.744780421257019\n",
      "Iteraion = 5000, Test accuracy = 0.6836453080177307\n",
      "Iteraion = 5000, Test accuracy = 0.7864170670509338\n",
      "Iteraion = 5000, Test accuracy = 0.6808855533599854\n",
      "Iteraion = 5000, Test accuracy = 0.6811255216598511\n",
      "Iteraion = 5000, Test accuracy = 0.7453203797340393\n",
      "Iteraion = 5000, Test accuracy = 0.6097912192344666\n",
      "Iteraion = 5000, Test accuracy = 0.7399207949638367\n",
      "Iteraion = 5000, Test accuracy = 0.6196904182434082\n",
      "Iteraion = 5000, Test accuracy = 0.6808855533599854\n",
      "Iteraion = 5000, Test accuracy = 0.6792656779289246\n",
      "Iteraion = 5000, Test accuracy = 0.6811854839324951\n",
      "Iteraion = 5000, Test accuracy = 0.7393208742141724\n",
      "Iteraion = 5000, Test accuracy = 0.735241174697876\n",
      "Iteraion = 5000, Test accuracy = 0.6250900030136108\n",
      "Iteraion = 5000, Test accuracy = 0.7413606643676758\n",
      "Iteraion = 5000, Test accuracy = 0.6190304756164551\n",
      "Iteraion = 5000, Test accuracy = 0.6855051517486572\n",
      "Iteraion = 5000, Test accuracy = 0.6803455948829651\n",
      "Iteraion = 5000, Test accuracy = 0.7465803027153015\n",
      "Iteraion = 5000, Test accuracy = 0.6862251162528992\n",
      "Iteraion = 5000, Test accuracy = 0.6142908334732056\n",
      "Iteraion = 5000, Test accuracy = 0.7344012260437012\n",
      "Iteraion = 5000, Test accuracy = 0.7491000890731812\n",
      "Tester = Classifier, metric = donsker_varadhan\n",
      "Iteraion = 5000, Test accuracy = 0.6161507368087769\n",
      "Tester = Classifier, metric = donsker_varadhan\n",
      "Tester = Classifier, metric = donsker_varadhan\n",
      "Tester = Classifier, metric = donsker_varadhan\n",
      "Tester = Classifier, metric = donsker_varadhan\n",
      "Tester = Classifier, metric = donsker_varadhan\n",
      "Tester = Classifier, metric = donsker_varadhan\n",
      "Iteraion = 5000, Test accuracy = 0.6734461188316345\n",
      "Tester = Classifier, metric = donsker_varadhan\n",
      "Iteraion = 5000, Test accuracy = 0.7459203004837036\n",
      "Iteraion = 5000, Test accuracy = 0.683405339717865\n",
      "Iteraion = 5000, Test accuracy = 0.6808855533599854\n",
      "Iteraion = 5000, Test accuracy = 0.792896568775177\n",
      "Iteraion = 5000, Test accuracy = 0.7940364480018616\n",
      "Iteraion = 5000, Test accuracy = 0.6190904974937439\n",
      "Iteraion = 5000, Test accuracy = 0.6237100958824158\n",
      "Iteraion = 5000, Test accuracy = 0.7120830416679382\n",
      "Iteraion = 5000, Test accuracy = 0.7951763868331909\n",
      "Iteraion = 5000, Test accuracy = 0.6828053593635559\n",
      "Iteraion = 5000, Test accuracy = 0.7378209829330444\n",
      "Iteraion = 5000, Test accuracy = 0.6844852566719055\n",
      "Iteraion = 5000, Test accuracy = 0.786297082901001\n",
      "Iteraion = 5000, Test accuracy = 0.6196304559707642\n",
      "Iteraion = 5000, Test accuracy = 0.6237701177597046\n",
      "Iteraion = 5000, Test accuracy = 0.7164626717567444\n",
      "Iteraion = 5000, Test accuracy = 0.6755459308624268\n",
      "Iteraion = 5000, Test accuracy = 0.7446604371070862\n",
      "Iteraion = 5000, Test accuracy = 0.680525541305542\n",
      "Iteraion = 5000, Test accuracy = 0.796556293964386\n",
      "Iteraion = 5000, Test accuracy = 0.7998560070991516\n",
      "Iteraion = 5000, Test accuracy = 0.6133309602737427\n",
      "Iteraion = 5000, Test accuracy = 0.6204103827476501\n",
      "Iteraion = 5000, Test accuracy = 0.6876649856567383\n"
     ]
    }
   ],
   "source": [
    "# ESTIMATE DI+GDI\n",
    "X_GDI = GDI.GDI(X,M,B)\n",
    "X_DI  = GDI.DI(X,M,B)"
   ]
  },
  {
   "cell_type": "code",
   "execution_count": null,
   "metadata": {},
   "outputs": [],
   "source": [
    "# Set up the matplotlib figure\n",
    "f, ax = plt.subplots(figsize=(11, 9))\n",
    "\n",
    "# Generate a custom diverging colormap\n",
    "cmap = sns.diverging_palette(230, 20, as_cmap=True)\n",
    "\n",
    "# Draw the heatmap with the correct aspect ratio\n",
    "sns.heatmap(true_connectivity, cmap=cmap, center=0,\n",
    "            square=True, linewidths=.5, cbar_kws={\"shrink\": .5})\n",
    "\n",
    "plt.title('Connectivity')"
   ]
  },
  {
   "cell_type": "code",
   "execution_count": null,
   "metadata": {},
   "outputs": [],
   "source": [
    "# Set up the matplotlib figure\n",
    "f, ax = plt.subplots(figsize=(11, 9))\n",
    "\n",
    "# Draw the heatmap with the correct aspect ratio\n",
    "sns.heatmap(X_DI, cmap=cmap, vmax=.5, center=0,\n",
    "            square=True, linewidths=.5, cbar_kws={\"shrink\": .5})\n",
    "\n",
    "plt.title('Estimated DI')"
   ]
  },
  {
   "cell_type": "code",
   "execution_count": null,
   "metadata": {},
   "outputs": [],
   "source": [
    "# Set up the matplotlib figure\n",
    "f, ax = plt.subplots(figsize=(11, 9))\n",
    "\n",
    "# Draw the heatmap with the correct aspect ratio\n",
    "sns.heatmap(X_GDI, cmap=cmap, vmax=0.5, center=0,\n",
    "            square=True, linewidths=.5, cbar_kws={\"shrink\": .5})\n",
    "\n",
    "plt.title('Estimated GDI')"
   ]
  },
  {
   "cell_type": "code",
   "execution_count": null,
   "metadata": {},
   "outputs": [],
   "source": []
  }
 ],
 "metadata": {
  "kernelspec": {
   "display_name": "Python 3",
   "language": "python",
   "name": "python3"
  },
  "language_info": {
   "codemirror_mode": {
    "name": "ipython",
    "version": 3
   },
   "file_extension": ".py",
   "mimetype": "text/x-python",
   "name": "python",
   "nbconvert_exporter": "python",
   "pygments_lexer": "ipython3",
   "version": "3.6.5"
  }
 },
 "nbformat": 4,
 "nbformat_minor": 2
}
