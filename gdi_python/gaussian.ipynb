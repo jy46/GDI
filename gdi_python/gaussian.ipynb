{
 "cells": [
  {
   "cell_type": "code",
   "execution_count": 1,
   "metadata": {},
   "outputs": [
    {
     "name": "stderr",
     "output_type": "stream",
     "text": [
      "/Users/joe/anaconda3/lib/python3.6/site-packages/h5py/__init__.py:36: FutureWarning: Conversion of the second argument of issubdtype from `float` to `np.floating` is deprecated. In future, it will be treated as `np.float64 == np.dtype(float).type`.\n",
      "  from ._conv import register_converters as _register_converters\n"
     ]
    }
   ],
   "source": [
    "# IMPORTS\n",
    "import GDI\n",
    "import numpy as np\n",
    "import seaborn as sns\n",
    "import matplotlib.pyplot as plt"
   ]
  },
  {
   "cell_type": "code",
   "execution_count": 2,
   "metadata": {},
   "outputs": [],
   "source": [
    "# PARAMETERS\n",
    "\n",
    "# number of nodes\n",
    "R  = 11\n",
    "\n",
    "# number of samples\n",
    "N  = 1e5  \n",
    "\n",
    "# memory parameter\n",
    "M  = 3     \n",
    "\n",
    "# bootstrap iterations\n",
    "B = 10\n",
    "\n",
    "# weights/betas\n",
    "p1 = 0.5\n",
    "p2 = 0.75\n",
    "p3 = 0.75\n",
    "p4 = 0.5\n",
    "p5 = 0.75"
   ]
  },
  {
   "cell_type": "code",
   "execution_count": 3,
   "metadata": {},
   "outputs": [],
   "source": [
    "# GENERATE RAW DATA\n",
    "# X has dim: NxR\n",
    "X = np.random.multivariate_normal(np.zeros((R,)), np.eye(R), int(N))"
   ]
  },
  {
   "cell_type": "code",
   "execution_count": 4,
   "metadata": {},
   "outputs": [],
   "source": [
    "# IMPLEMENT CAUSALITY/STRUCTURE\n",
    "# shift things in time to create causal Gaussian network with weights used before\n",
    "X[1:,0]  = np.sqrt(1-p1)*X[1:,0]  + np.sqrt(p1)*X[:-1,5]\n",
    "X[1:,2]  = np.sqrt(1-p1)*X[1:,2]  + np.sqrt(p1)*X[:-1,5]\n",
    "X[1:,4]  = np.sqrt(1-p1)*X[1:,4]  - np.sqrt(p1)*X[:-1,5]\n",
    "X[1:,3]  = np.sqrt(1-p2)*X[1:,3]  + np.sqrt(p2)*X[:-1,0]\n",
    "X[1:,1]  = np.sqrt(1-p3)*X[1:,1]  + np.sqrt(p3/4)*X[:-1,6] - np.sqrt(p3/4)*X[:-1,7] + np.sqrt(p3/4)*X[:-1,8] + np.sqrt(p3/4)*X[:-1,5]\n",
    "X[1:,10] = np.sqrt(1-p4)*X[1:,10] + np.sqrt(p4)*X[:-1,3]\n",
    "X[1:,9]  = np.sqrt(1-p5)*X[1:, 9] + np.sqrt(p5/2)*X[:-1,4] + np.sqrt(p5/2)*X[:-1,2]"
   ]
  },
  {
   "cell_type": "code",
   "execution_count": 5,
   "metadata": {},
   "outputs": [],
   "source": [
    "# TRUE CONNECTIVITY\n",
    "true_connectivity = np.zeros((R,R))\n",
    "true_connectivity[5,[0, 2, 4,]] = np.asarray([p1, p1, -p1,])\n",
    "true_connectivity[[5, 6, 8,],1] = p3/4\n",
    "true_connectivity[7,1] = -p3/4\n",
    "true_connectivity[[2, 4],9] = p5/2\n",
    "true_connectivity[0,3] = p2\n",
    "true_connectivity[3,10] = p4"
   ]
  },
  {
   "cell_type": "code",
   "execution_count": 6,
   "metadata": {},
   "outputs": [
    {
     "name": "stdout",
     "output_type": "stream",
     "text": [
      "Tester = Classifier, metric = donsker_varadhan\n"
     ]
    },
    {
     "name": "stderr",
     "output_type": "stream",
     "text": [
      "WARNING: Logging before flag parsing goes to stderr.\n",
      "W0926 14:28:35.336318 4581776832 deprecation_wrapper.py:119] From /Users/joe/GDI_Code_Dev/CCMI.py:79: The name tf.reset_default_graph is deprecated. Please use tf.compat.v1.reset_default_graph instead.\n",
      "\n",
      "W0926 14:28:35.359759 4581776832 deprecation_wrapper.py:119] From /Users/joe/GDI_Code_Dev/Classifier_MI.py:66: The name tf.placeholder is deprecated. Please use tf.compat.v1.placeholder instead.\n",
      "\n"
     ]
    },
    {
     "name": "stdout",
     "output_type": "stream",
     "text": [
      "Tester = Classifier, metric = donsker_varadhan\n"
     ]
    },
    {
     "name": "stderr",
     "output_type": "stream",
     "text": [
      "WARNING: Logging before flag parsing goes to stderr.\n",
      "W0926 14:28:35.374447 4581776832 deprecation_wrapper.py:119] From /Users/joe/GDI_Code_Dev/CCMI.py:79: The name tf.reset_default_graph is deprecated. Please use tf.compat.v1.reset_default_graph instead.\n",
      "W0926 14:28:35.379862 4581776832 deprecation_wrapper.py:119] From /Users/joe/GDI_Code_Dev/Classifier_MI.py:49: The name tf.variable_scope is deprecated. Please use tf.compat.v1.variable_scope instead.\n",
      "\n",
      "\n",
      "W0926 14:28:35.392564 4581776832 deprecation_wrapper.py:119] From /Users/joe/GDI_Code_Dev/Classifier_MI.py:66: The name tf.placeholder is deprecated. Please use tf.compat.v1.placeholder instead.\n",
      "\n",
      "W0926 14:28:35.418967 4581776832 deprecation_wrapper.py:119] From /Users/joe/GDI_Code_Dev/Classifier_MI.py:49: The name tf.variable_scope is deprecated. Please use tf.compat.v1.variable_scope instead.\n",
      "\n"
     ]
    },
    {
     "name": "stdout",
     "output_type": "stream",
     "text": [
      "Tester = Classifier, metric = donsker_varadhan\n"
     ]
    },
    {
     "name": "stderr",
     "output_type": "stream",
     "text": [
      "WARNING: Logging before flag parsing goes to stderr.\n",
      "W0926 14:28:35.451117 4581776832 deprecation_wrapper.py:119] From /Users/joe/GDI_Code_Dev/CCMI.py:79: The name tf.reset_default_graph is deprecated. Please use tf.compat.v1.reset_default_graph instead.\n",
      "\n",
      "W0926 14:28:35.488614 4581776832 deprecation_wrapper.py:119] From /Users/joe/GDI_Code_Dev/Classifier_MI.py:66: The name tf.placeholder is deprecated. Please use tf.compat.v1.placeholder instead.\n",
      "\n",
      "W0926 14:28:35.516353 4581776832 deprecation_wrapper.py:119] From /Users/joe/GDI_Code_Dev/Classifier_MI.py:49: The name tf.variable_scope is deprecated. Please use tf.compat.v1.variable_scope instead.\n",
      "\n",
      "W0926 14:28:36.103299 4581776832 deprecation.py:323] From /Users/joe/anaconda3/lib/python3.6/site-packages/tensorflow/python/ops/nn_impl.py:180: add_dispatch_support.<locals>.wrapper (from tensorflow.python.ops.array_ops) is deprecated and will be removed in a future version.\n",
      "Instructions for updating:\n",
      "Use tf.where in 2.0, which has the same broadcast rule as np.where\n",
      "W0926 14:28:36.114586 4581776832 deprecation_wrapper.py:119] From /Users/joe/GDI_Code_Dev/Classifier_MI.py:71: The name tf.losses.get_regularization_loss is deprecated. Please use tf.compat.v1.losses.get_regularization_loss instead.\n",
      "\n",
      "W0926 14:28:36.124393 4581776832 deprecation.py:323] From /Users/joe/anaconda3/lib/python3.6/site-packages/tensorflow/python/ops/nn_impl.py:180: add_dispatch_support.<locals>.wrapper (from tensorflow.python.ops.array_ops) is deprecated and will be removed in a future version.\n",
      "Instructions for updating:\n",
      "Use tf.where in 2.0, which has the same broadcast rule as np.whereW0926 14:28:36.126576 4581776832 deprecation_wrapper.py:119] From /Users/joe/GDI_Code_Dev/Classifier_MI.py:81: The name tf.train.AdamOptimizer is deprecated. Please use tf.compat.v1.train.AdamOptimizer instead.\n",
      "\n",
      "\n",
      "W0926 14:28:36.135734 4581776832 deprecation_wrapper.py:119] From /Users/joe/GDI_Code_Dev/Classifier_MI.py:71: The name tf.losses.get_regularization_loss is deprecated. Please use tf.compat.v1.losses.get_regularization_loss instead.\n",
      "\n",
      "W0926 14:28:36.148474 4581776832 deprecation_wrapper.py:119] From /Users/joe/GDI_Code_Dev/Classifier_MI.py:81: The name tf.train.AdamOptimizer is deprecated. Please use tf.compat.v1.train.AdamOptimizer instead.\n",
      "\n",
      "W0926 14:28:36.166672 4581776832 deprecation.py:323] From /Users/joe/anaconda3/lib/python3.6/site-packages/tensorflow/python/ops/nn_impl.py:180: add_dispatch_support.<locals>.wrapper (from tensorflow.python.ops.array_ops) is deprecated and will be removed in a future version.\n",
      "Instructions for updating:\n",
      "Use tf.where in 2.0, which has the same broadcast rule as np.where\n",
      "W0926 14:28:36.183429 4581776832 deprecation_wrapper.py:119] From /Users/joe/GDI_Code_Dev/Classifier_MI.py:71: The name tf.losses.get_regularization_loss is deprecated. Please use tf.compat.v1.losses.get_regularization_loss instead.\n",
      "\n",
      "W0926 14:28:36.197396 4581776832 deprecation_wrapper.py:119] From /Users/joe/GDI_Code_Dev/Classifier_MI.py:81: The name tf.train.AdamOptimizer is deprecated. Please use tf.compat.v1.train.AdamOptimizer instead.\n",
      "\n",
      "W0926 14:28:36.347289 4581776832 deprecation_wrapper.py:119] From /Users/joe/GDI_Code_Dev/Classifier_MI.py:84: The name tf.ConfigProto is deprecated. Please use tf.compat.v1.ConfigProto instead.\n",
      "\n",
      "W0926 14:28:36.354753 4581776832 deprecation_wrapper.py:119] From /Users/joe/GDI_Code_Dev/Classifier_MI.py:87: The name tf.Session is deprecated. Please use tf.compat.v1.Session instead.\n",
      "\n",
      "W0926 14:28:36.373534 4581776832 deprecation_wrapper.py:119] From /Users/joe/GDI_Code_Dev/Classifier_MI.py:84: The name tf.ConfigProto is deprecated. Please use tf.compat.v1.ConfigProto instead.\n",
      "\n",
      "W0926 14:28:36.379931 4581776832 deprecation_wrapper.py:119] From /Users/joe/GDI_Code_Dev/Classifier_MI.py:87: The name tf.Session is deprecated. Please use tf.compat.v1.Session instead.\n",
      "\n",
      "W0926 14:28:36.409476 4581776832 deprecation_wrapper.py:119] From /Users/joe/GDI_Code_Dev/Classifier_MI.py:84: The name tf.ConfigProto is deprecated. Please use tf.compat.v1.ConfigProto instead.\n",
      "\n",
      "W0926 14:28:36.416108 4581776832 deprecation_wrapper.py:119] From /Users/joe/GDI_Code_Dev/Classifier_MI.py:87: The name tf.Session is deprecated. Please use tf.compat.v1.Session instead.\n",
      "\n"
     ]
    },
    {
     "name": "stdout",
     "output_type": "stream",
     "text": [
      "Iteraion = 5000, Test accuracy = 0.7771178483963013\n",
      "Iteraion = 5000, Test accuracy = 0.6660067439079285\n",
      "Iteraion = 5000, Test accuracy = 0.6659467220306396\n",
      "Iteraion = 5000, Test accuracy = 0.7769378423690796\n",
      "Iteraion = 5000, Test accuracy = 0.6643868684768677\n",
      "Iteraion = 5000, Test accuracy = 0.6646268367767334\n",
      "Iteraion = 5000, Test accuracy = 0.7756179571151733\n",
      "Iteraion = 5000, Test accuracy = 0.6688864827156067\n",
      "Iteraion = 5000, Test accuracy = 0.6684665083885193\n",
      "Iteraion = 5000, Test accuracy = 0.7787377238273621\n",
      "Iteraion = 5000, Test accuracy = 0.6630669832229614\n",
      "Iteraion = 5000, Test accuracy = 0.6658267378807068\n",
      "Iteraion = 5000, Test accuracy = 0.7726181745529175\n",
      "Iteraion = 5000, Test accuracy = 0.6591072678565979\n",
      "Iteraion = 5000, Test accuracy = 0.6645668148994446\n",
      "Iteraion = 5000, Test accuracy = 0.6658867001533508\n",
      "Iteraion = 5000, Test accuracy = 0.7755579352378845\n",
      "Iteraion = 5000, Test accuracy = 0.6600071787834167\n",
      "Iteraion = 5000, Test accuracy = 0.7726781964302063\n",
      "Iteraion = 5000, Test accuracy = 0.6651067733764648\n",
      "Iteraion = 5000, Test accuracy = 0.6658867001533508\n",
      "Iteraion = 5000, Test accuracy = 0.7753179669380188\n",
      "Iteraion = 5000, Test accuracy = 0.664206862449646\n",
      "Iteraion = 5000, Test accuracy = 0.6675665974617004\n",
      "Iteraion = 5000, Test accuracy = 0.7760379314422607\n",
      "Iteraion = 5000, Test accuracy = 0.6695464253425598\n",
      "Iteraion = 5000, Test accuracy = 0.6656467318534851\n",
      "Iteraion = 5000, Test accuracy = 0.6712263226509094\n",
      "Iteraion = 5000, Test accuracy = 0.7801175713539124\n",
      "Iteraion = 5000, Test accuracy = 0.667866587638855\n",
      "Iteraion = 5000, Test accuracy = 0.7209023237228394\n",
      "Iteraion = 5000, Test accuracy = 0.6307895183563232\n",
      "Iteraion = 5000, Test accuracy = 0.6301895976066589\n",
      "Iteraion = 5000, Test accuracy = 0.7335613369941711\n",
      "Iteraion = 5000, Test accuracy = 0.6348091959953308\n",
      "Iteraion = 5000, Test accuracy = 0.6310895085334778\n",
      "Iteraion = 5000, Test accuracy = 0.7251619696617126\n",
      "Iteraion = 5000, Test accuracy = 0.6280897259712219\n",
      "Iteraion = 5000, Test accuracy = 0.6300095915794373\n",
      "Iteraion = 5000, Test accuracy = 0.7248020172119141\n",
      "Iteraion = 5000, Test accuracy = 0.6390088796615601\n",
      "Iteraion = 5000, Test accuracy = 0.6283897161483765\n",
      "Iteraion = 5000, Test accuracy = 0.7281617522239685\n",
      "Iteraion = 5000, Test accuracy = 0.63234943151474\n",
      "Iteraion = 5000, Test accuracy = 0.6373290419578552\n",
      "Iteraion = 5000, Test accuracy = 0.7278017997741699\n",
      "Iteraion = 5000, Test accuracy = 0.6311495304107666\n",
      "Iteraion = 5000, Test accuracy = 0.6291096806526184\n",
      "Iteraion = 5000, Test accuracy = 0.7241420745849609\n",
      "Iteraion = 5000, Test accuracy = 0.6298896074295044\n",
      "Iteraion = 5000, Test accuracy = 0.6326493620872498\n",
      "Iteraion = 5000, Test accuracy = 0.7243220806121826\n",
      "Iteraion = 5000, Test accuracy = 0.6250900030136108\n",
      "Iteraion = 5000, Test accuracy = 0.6359491348266602\n",
      "Iteraion = 5000, Test accuracy = 0.7278017997741699\n",
      "Iteraion = 5000, Test accuracy = 0.6366090774536133\n",
      "Iteraion = 5000, Test accuracy = 0.6338492631912231\n",
      "Iteraion = 5000, Test accuracy = 0.722582221031189\n",
      "Iteraion = 5000, Test accuracy = 0.6356491446495056\n",
      "Iteraion = 5000, Test accuracy = 0.6350492238998413\n"
     ]
    }
   ],
   "source": [
    "# ESTIMATE DI+GDI\n",
    "X_GDI = GDI.GDI(X,M,B)\n",
    "X_DI  = GDI.DI(X,M,B)"
   ]
  },
  {
   "cell_type": "code",
   "execution_count": 8,
   "metadata": {},
   "outputs": [],
   "source": [
    "# COMPUTE TRUE VALUES OF GDI\n",
    "true_GDI = np.zeros((R,R))\n",
    "\n",
    "true_GDI[5,0]  = 0.5*np.log(1+(p1/(1-p1)))\n",
    "true_GDI[5,2]  = 0.5*np.log(1+(p1/(1-p1)))\n",
    "true_GDI[5,4]  = -0.5*np.log(1+(p1/(1-p1)))\n",
    "\n",
    "true_GDI[5,1]  = 0.5*np.log(1+((p3/4)/(1-p3)))\n",
    "true_GDI[6,1]  = 0.5*np.log(1+((p3/4)/(1-p3)))\n",
    "true_GDI[7,1]  = -0.5*np.log(1+((p3/4)/(1-p3)))\n",
    "true_GDI[8,1]  = 0.5*np.log(1+((p3/4)/(1-p3)))\n",
    "\n",
    "true_GDI[2,9] = 0.5*np.log(1+(((p5/2)*(1-p1))/(1-p5)))\n",
    "true_GDI[4,9] = 0.5*np.log(1+(((p5/2)*(1-p1))/(1-p5)))\n",
    "\n",
    "true_GDI[0,3]  = 0.5*np.log(1+(((p2)*(1-p1))/(1-p2)))\n",
    "true_GDI[3,10] = 0.5*np.log(1+(((p4)*(1-p2))/(1-p4)))"
   ]
  },
  {
   "cell_type": "code",
   "execution_count": null,
   "metadata": {},
   "outputs": [],
   "source": [
    "# Set up the matplotlib figure\n",
    "f, ax = plt.subplots(figsize=(11, 9))\n",
    "\n",
    "# Generate a custom diverging colormap\n",
    "cmap = sns.diverging_palette(230, 20, as_cmap=True)\n",
    "\n",
    "# Draw the heatmap with the correct aspect ratio\n",
    "sns.heatmap(true_connectivity, cmap=cmap, center=0,\n",
    "            square=True, linewidths=.5, cbar_kws={\"shrink\": .5})\n",
    "\n",
    "plt.title('Connectivity')"
   ]
  },
  {
   "cell_type": "code",
   "execution_count": null,
   "metadata": {},
   "outputs": [],
   "source": [
    "# Set up the matplotlib figure\n",
    "f, ax = plt.subplots(figsize=(11, 9))\n",
    "\n",
    "# Draw the heatmap with the correct aspect ratio\n",
    "sns.heatmap(X_DI, cmap=cmap, vmax=.5, center=0,\n",
    "            square=True, linewidths=.5, cbar_kws={\"shrink\": .5})\n",
    "\n",
    "plt.title('Estimated DI')"
   ]
  },
  {
   "cell_type": "code",
   "execution_count": null,
   "metadata": {},
   "outputs": [],
   "source": [
    "# Set up the matplotlib figure\n",
    "f, ax = plt.subplots(figsize=(11, 9))\n",
    "\n",
    "# Draw the heatmap with the correct aspect ratio\n",
    "sns.heatmap(X_GDI, cmap=cmap, vmax=0.5, center=0,\n",
    "            square=True, linewidths=.5, cbar_kws={\"shrink\": .5})\n",
    "\n",
    "plt.title('Estimated GDI')"
   ]
  },
  {
   "cell_type": "code",
   "execution_count": null,
   "metadata": {},
   "outputs": [],
   "source": [
    "# Set up the matplotlib figure\n",
    "f, ax = plt.subplots(figsize=(11, 9))\n",
    "\n",
    "# Draw the heatmap with the correct aspect ratio\n",
    "sns.heatmap(true_GDI, cmap=cmap, vmax = 0.5, center=0,\n",
    "            square=True, linewidths=.5, cbar_kws={\"shrink\": .5})\n",
    "\n",
    "plt.title('True GDI')"
   ]
  },
  {
   "cell_type": "code",
   "execution_count": null,
   "metadata": {},
   "outputs": [],
   "source": []
  }
 ],
 "metadata": {
  "kernelspec": {
   "display_name": "Python 3",
   "language": "python",
   "name": "python3"
  },
  "language_info": {
   "codemirror_mode": {
    "name": "ipython",
    "version": 3
   },
   "file_extension": ".py",
   "mimetype": "text/x-python",
   "name": "python",
   "nbconvert_exporter": "python",
   "pygments_lexer": "ipython3",
   "version": "3.6.5"
  }
 },
 "nbformat": 4,
 "nbformat_minor": 2
}
