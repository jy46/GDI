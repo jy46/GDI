{
 "cells": [
  {
   "cell_type": "code",
   "execution_count": 1,
   "metadata": {},
   "outputs": [],
   "source": [
    "%%capture\n",
    "# IMPORTS\n",
    "import GDI\n",
    "import numpy as np\n",
    "import seaborn as sns\n",
    "import matplotlib.pyplot as plt\n",
    "from IPython.utils import io\n",
    "import copy"
   ]
  },
  {
   "cell_type": "code",
   "execution_count": 2,
   "metadata": {
    "collapsed": true
   },
   "outputs": [],
   "source": [
    "# PARAMETERS\n",
    "\n",
    "# number of nodes\n",
    "R  = 11\n",
    "\n",
    "# number of samples\n",
    "N  = 1e5  \n",
    "\n",
    "# memory parameter\n",
    "M  = 3     \n",
    "\n",
    "# bootstrap iterations\n",
    "B = 100\n",
    "\n",
    "# weights/betas\n",
    "p1 = 0.5\n",
    "p2 = 0.75\n",
    "p3 = 0.5\n",
    "p4 = 0.5\n",
    "p5 = 0.75\n",
    "\n",
    "# Power used for relationship between nodes\n",
    "P = 2"
   ]
  },
  {
   "cell_type": "code",
   "execution_count": 3,
   "metadata": {
    "collapsed": true
   },
   "outputs": [],
   "source": [
    "# GENERATE RAW DATA\n",
    "# X has dim: NxR\n",
    "X = np.random.uniform(size=(int(N),int(R)))\n",
    "Z = np.random.multivariate_normal(np.zeros((R,)),0.25*np.eye(R), int(N))"
   ]
  },
  {
   "cell_type": "code",
   "execution_count": 4,
   "metadata": {
    "collapsed": true
   },
   "outputs": [],
   "source": [
    "# IMPLEMENT CAUSALITY/STRUCTURE\n",
    "# shift things in time to create causal Gaussian network with weights used before\n",
    "X[1:,0]  = np.sqrt(1-p1)*copy.deepcopy(Z[1:,0])  + np.sqrt(p1)*copy.deepcopy((X[:-1,5]**P))\n",
    "X[1:,2]  = np.sqrt(1-p1)*copy.deepcopy(Z[1:,2])  + np.sqrt(p1)*copy.deepcopy((X[:-1,5]**P))\n",
    "X[1:,4]  = np.sqrt(1-p1)*copy.deepcopy(Z[1:,4])  - np.sqrt(p1)*copy.deepcopy((X[:-1,5]**P))\n",
    "X[1:,3]  = np.sqrt(1-p2)*copy.deepcopy(Z[1:,3])  + np.sqrt(p2)*copy.deepcopy((X[:-1,0]**P))\n",
    "X[1:,1]  = np.sqrt(1-p3)*copy.deepcopy(Z[1:,1])  - np.sqrt(p3/3)*copy.deepcopy((X[:-1,7]**P)) + np.sqrt(p3/3)*copy.deepcopy((X[:-1,8]**P)) + np.sqrt(p3/3)*copy.deepcopy((X[:-1,5]**P))\n",
    "X[1:,10] = np.sqrt(1-p4)*copy.deepcopy(Z[1:,10]) + np.sqrt(p4)*copy.deepcopy((X[:-1,3]**P))\n",
    "X[1:,9]  = np.sqrt(1-p5)*copy.deepcopy(Z[1:, 9]) + np.sqrt(p5/2)*copy.deepcopy((X[:-1,4]**P)) + np.sqrt(p5/2)*copy.deepcopy((X[:-1,2]**P))"
   ]
  },
  {
   "cell_type": "code",
   "execution_count": 5,
   "metadata": {
    "collapsed": true
   },
   "outputs": [],
   "source": [
    "# TRUE CONNECTIVITY\n",
    "true_connectivity = np.zeros((R,R))\n",
    "true_connectivity[5,[0, 2, 4,]] = np.asarray([p1, p1, -p1,])\n",
    "true_connectivity[[5, 8,],1] = p3/3\n",
    "true_connectivity[7,1] = -p3/3\n",
    "true_connectivity[[2, 4],9] = p5/2\n",
    "true_connectivity[0,3] = p2\n",
    "true_connectivity[3,10] = p4"
   ]
  },
  {
   "cell_type": "code",
   "execution_count": 6,
   "metadata": {},
   "outputs": [],
   "source": [
    "%%capture\n",
    "# ESTIMATE DI+GDI\n",
    "with io.capture_output() as captured:\n",
    "    X_GDI = GDI.GDI(X,M,B)\n",
    "    X_DI  = GDI.DI(X,M,B)\n",
    "    \n",
    "# SET ESTIMATES LESS THAN 0 TO 0\n",
    "X_DI[X_DI<0]=0\n",
    "X_GDI[X_GDI<0]=0\n",
    "    \n",
    "# ESTIMATE SIGNS\n",
    "X_partial_sign, X_regular_sign = GDI.sign_inference(X,M)"
   ]
  },
  {
   "cell_type": "code",
   "execution_count": 10,
   "metadata": {},
   "outputs": [
    {
     "data": {
      "image/png": "[encoded data removed]",
      "text/plain": [
       "<Figure size 1440x648 with 6 Axes>"
      ]
     },
     "metadata": {
      "needs_background": "light"
     },
     "output_type": "display_data"
    }
   ],
   "source": [
    "# Figure\n",
    "f, ax = plt.subplots(figsize=(20, 9))\n",
    "\n",
    "# Colormap\n",
    "plt.subplot(131)\n",
    "cmap = sns.diverging_palette(230, 20, as_cmap=True)\n",
    "\n",
    "# Heatmap: True Connectivity\n",
    "sns.heatmap(true_connectivity, cmap=cmap, center=0,\n",
    "            square=True, linewidths=.5, cbar_kws={\"shrink\": .5})\n",
    "\n",
    "plt.xlim((-0.5, R+0.5))\n",
    "plt.ylim((R+0.5,-0.5))\n",
    "plt.title('Connectivity')\n",
    "\n",
    "# Heatmap: DI\n",
    "plt.subplot(132)\n",
    "sns.heatmap(X_regular_sign*X_DI, cmap=cmap, \n",
    "            vmax=np.max(np.stack((X_regular_sign*X_DI,X_partial_sign*X_GDI))), \n",
    "            vmin = np.min(np.stack((X_regular_sign*X_DI,X_partial_sign*X_GDI))),  \n",
    "            center=0, square=True, linewidths=.5, cbar_kws={\"shrink\": .5})\n",
    "\n",
    "plt.xlim((-0.5, R+0.5))\n",
    "plt.ylim((R+0.5,-0.5))\n",
    "plt.title('Estimated DI')\n",
    "\n",
    "# Heatmap: GDI\n",
    "plt.subplot(133)\n",
    "sns.heatmap(X_partial_sign*X_GDI, cmap=cmap, \n",
    "            vmax=np.max(np.stack((X_regular_sign*X_DI,X_partial_sign*X_GDI))), \n",
    "            vmin = np.min(np.stack((X_regular_sign*X_DI,X_partial_sign*X_GDI))),  \n",
    "            center=0, square=True, linewidths=.5, cbar_kws={\"shrink\": .5})\n",
    "\n",
    "plt.xlim((-0.5, R+0.5))\n",
    "plt.ylim((R+0.5,-0.5))\n",
    "plt.title('Estimated GDI');"
   ]
  }
 ],
 "metadata": {
  "kernelspec": {
   "display_name": "Python 3",
   "language": "python",
   "name": "python3"
  },
  "language_info": {
   "codemirror_mode": {
    "name": "ipython",
    "version": 3
   },
   "file_extension": ".py",
   "mimetype": "text/x-python",
   "name": "python",
   "nbconvert_exporter": "python",
   "pygments_lexer": "ipython3",
   "version": "3.7.4"
  }
 },
 "nbformat": 4,
 "nbformat_minor": 2
}
