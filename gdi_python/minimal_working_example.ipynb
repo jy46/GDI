{
 "cells": [
  {
   "cell_type": "code",
   "execution_count": 1,
   "metadata": {
    "scrolled": true
   },
   "outputs": [],
   "source": [
    "%%capture\n",
    "import GDI\n",
    "import numpy as np\n",
    "\n",
    "num_samples = 5000\n",
    "mean = [0,0,0]\n",
    "cov  = np.eye(3)\n",
    "\n",
    "X = np.random.multivariate_normal(mean, cov, num_samples)\n",
    "\n",
    "X[2:,1] = X[2:,1] + X[:-2,0]\n",
    "X[2:,2] = X[2:,2] + X[:-2,1]\n",
    "\n",
    "M = 4\n",
    "B = 10\n",
    "\n",
    "X_DI = GDI.DI(X,M,B)\n",
    "X_GDI = GDI.GDI(X,M,B)"
   ]
  },
  {
   "cell_type": "code",
   "execution_count": 2,
   "metadata": {},
   "outputs": [
    {
     "name": "stdout",
     "output_type": "stream",
     "text": [
      "[[ 0.          0.28894174  0.14376232]\n",
      " [-0.03849858  0.          0.41943371]\n",
      " [-0.00379599  0.01210362  0.        ]]\n",
      "[[ 0.          0.27904469  0.01350635]\n",
      " [ 0.09686911  0.          0.38679242]\n",
      " [-0.02606332 -0.01351231  0.        ]]\n"
     ]
    }
   ],
   "source": [
    "print(X_DI)\n",
    "print(X_GDI)"
   ]
  },
  {
   "cell_type": "code",
   "execution_count": null,
   "metadata": {},
   "outputs": [],
   "source": []
  }
 ],
 "metadata": {
  "kernelspec": {
   "display_name": "Python 3",
   "language": "python",
   "name": "python3"
  },
  "language_info": {
   "codemirror_mode": {
    "name": "ipython",
    "version": 3
   },
   "file_extension": ".py",
   "mimetype": "text/x-python",
   "name": "python",
   "nbconvert_exporter": "python",
   "pygments_lexer": "ipython3",
   "version": "3.6.5"
  }
 },
 "nbformat": 4,
 "nbformat_minor": 2
}
